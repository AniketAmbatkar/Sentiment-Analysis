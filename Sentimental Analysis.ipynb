{
 "cells": [
  {
   "cell_type": "code",
   "execution_count": 1,
   "id": "e9f44b01",
   "metadata": {},
   "outputs": [
    {
     "name": "stdout",
     "output_type": "stream",
     "text": [
      "Defaulting to user installation because normal site-packages is not writeable\n",
      "Collecting textblob\n",
      "  Downloading textblob-0.17.1-py2.py3-none-any.whl (636 kB)\n",
      "Requirement already satisfied: nltk>=3.1 in c:\\programdata\\anaconda3\\lib\\site-packages (from textblob) (3.7)\n",
      "Requirement already satisfied: regex>=2021.8.3 in c:\\programdata\\anaconda3\\lib\\site-packages (from nltk>=3.1->textblob) (2022.3.15)\n",
      "Requirement already satisfied: click in c:\\programdata\\anaconda3\\lib\\site-packages (from nltk>=3.1->textblob) (8.0.4)\n",
      "Requirement already satisfied: tqdm in c:\\programdata\\anaconda3\\lib\\site-packages (from nltk>=3.1->textblob) (4.64.0)\n",
      "Requirement already satisfied: joblib in c:\\programdata\\anaconda3\\lib\\site-packages (from nltk>=3.1->textblob) (1.1.0)\n",
      "Requirement already satisfied: colorama in c:\\programdata\\anaconda3\\lib\\site-packages (from click->nltk>=3.1->textblob) (0.4.4)\n",
      "Installing collected packages: textblob\n",
      "Successfully installed textblob-0.17.1\n",
      "Note: you may need to restart the kernel to use updated packages.\n"
     ]
    }
   ],
   "source": [
    "pip install textblob"
   ]
  },
  {
   "cell_type": "code",
   "execution_count": 3,
   "id": "2d46fdcf",
   "metadata": {},
   "outputs": [],
   "source": [
    "from textblob import TextBlob"
   ]
  },
  {
   "cell_type": "code",
   "execution_count": 4,
   "id": "89cb0179",
   "metadata": {},
   "outputs": [],
   "source": [
    "from dataclasses import dataclass"
   ]
  },
  {
   "cell_type": "code",
   "execution_count": 6,
   "id": "d14ccd4c",
   "metadata": {},
   "outputs": [],
   "source": [
    "@dataclass\n",
    "class Mood:\n",
    "    emoji:str\n",
    "    sentiment:float\n",
    "\n",
    "def getMood(input_text: str, *, threshold:float)-> Mood:\n",
    "    sentiment: float = TextBlob(input_text).sentiment.polarity\n",
    "        \n",
    "    friendly_threshold: float = threshold\n",
    "    hostile_threshold: float = -threshold\n",
    "        \n",
    "    if sentiment >= friendly_threshold:\n",
    "        return Mood('HAPPY', sentiment)\n",
    "    elif sentiment <= hostile_threshold: \n",
    "        return Mood('SAD', sentiment)\n",
    "    else:\n",
    "        return Mood('NEUTRAL', sentiment)"
   ]
  },
  {
   "cell_type": "code",
   "execution_count": null,
   "id": "8e9e63fe",
   "metadata": {},
   "outputs": [
    {
     "name": "stdout",
     "output_type": "stream",
     "text": [
      "ENTER YOUR TEXT: I love playing football.\n",
      "HAPPY (0.5)\n",
      "ENTER YOUR TEXT: I hate pizza.\n",
      "SAD (-0.8)\n",
      "ENTER YOUR TEXT: I drive car.\n",
      "NEUTRAL (0.0)\n"
     ]
    }
   ],
   "source": [
    "if __name__ == '__main__':\n",
    "    while True:\n",
    "        text: str = input('ENTER YOUR TEXT: ')\n",
    "        mood: Mood = getMood (text, threshold=0.5)\n",
    "        print(f'{mood.emoji} ({mood.sentiment})')"
   ]
  },
  {
   "cell_type": "code",
   "execution_count": null,
   "id": "2e8ac9a1",
   "metadata": {},
   "outputs": [],
   "source": [
    "#THE END"
   ]
  }
 ],
 "metadata": {
  "kernelspec": {
   "display_name": "Python 3 (ipykernel)",
   "language": "python",
   "name": "python3"
  },
  "language_info": {
   "codemirror_mode": {
    "name": "ipython",
    "version": 3
   },
   "file_extension": ".py",
   "mimetype": "text/x-python",
   "name": "python",
   "nbconvert_exporter": "python",
   "pygments_lexer": "ipython3",
   "version": "3.9.12"
  }
 },
 "nbformat": 4,
 "nbformat_minor": 5
}
